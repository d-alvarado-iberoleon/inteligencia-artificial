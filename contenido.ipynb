{
 "cells": [
  {
   "cell_type": "markdown",
   "id": "1525ff23",
   "metadata": {
    "slideshow": {
     "slide_type": "slide"
    }
   },
   "source": [
    "# Inteligencia Artificial\n",
    "### Primavera 2024\n",
    "\n",
    "#### Dra. Dora Alvarado\n",
    "* 27382@iberoleon.edu.mx \n",
    "* doraelisa.alvaradocarrillo@iberoleon.edu.mx\n",
    "\n"
   ]
  },
  {
   "cell_type": "markdown",
   "id": "290d1a46",
   "metadata": {},
   "source": [
    "## Clases Disponibles\n",
    "\n",
    "1. [Clase 1: Logística del Curso](https://mybinder.org/v2/gh/d-alvarado-iberoleon/inteligencia-artificial/8f81f79954ef4848e6efa665394d00f76b172e0b?filepath=clases%2Fclase01_logistica-curso.ipynb)\n",
    "2. [Clase 2: Introducción a la IA](https://mybinder.org/v2/gh/d-alvarado-iberoleon/inteligencia-artificial/f78b1b08426100b212469b060e0cc6c79fc8c23f?filepath=clases%2Fclase02_introduccion.ipynb)\n"
   ]
  },
  {
   "cell_type": "code",
   "execution_count": null,
   "id": "2fbcac0a",
   "metadata": {},
   "outputs": [],
   "source": []
  }
 ],
 "metadata": {
  "kernelspec": {
   "display_name": "Python 3 (ipykernel)",
   "language": "python",
   "name": "python3"
  },
  "language_info": {
   "codemirror_mode": {
    "name": "ipython",
    "version": 3
   },
   "file_extension": ".py",
   "mimetype": "text/x-python",
   "name": "python",
   "nbconvert_exporter": "python",
   "pygments_lexer": "ipython3",
   "version": "3.11.5"
  }
 },
 "nbformat": 4,
 "nbformat_minor": 5
}

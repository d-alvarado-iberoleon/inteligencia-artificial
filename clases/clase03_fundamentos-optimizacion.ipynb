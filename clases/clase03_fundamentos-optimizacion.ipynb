{
 "cells": [
  {
   "cell_type": "markdown",
   "id": "1525ff23",
   "metadata": {
    "slideshow": {
     "slide_type": "slide"
    }
   },
   "source": [
    "# Inteligencia Artificial\n",
    "\n",
    "## Clase 03: Fundamentos de Optimización\n",
    "\n",
    "### Primavera 2024\n",
    "\n",
    "#### Dra. Dora Alvarado\n",
    "* 27382@iberoleon.edu.mx \n",
    "* doraelisa.alvaradocarrillo@iberoleon.edu.mx\n",
    "\n"
   ]
  },
  {
   "cell_type": "markdown",
   "id": "825148aa",
   "metadata": {
    "slideshow": {
     "slide_type": "slide"
    }
   },
   "source": [
    "## Temario (sujeto a cambios según sea necesario):\n",
    "\n",
    "<img src=\"./imgs/temario_s2.png\" alt=\"Temario del curso\" style=\"width:85%; margin-left:auto; margin-right:auto;\">"
   ]
  },
  {
   "cell_type": "markdown",
   "id": "4c5e372d",
   "metadata": {
    "slideshow": {
     "slide_type": "slide"
    }
   },
   "source": [
    "## Contenido\n",
    "\n",
    "- Motivación\n",
    "    - El papel de la Optimización en un proyecto de ML\n",
    "    - Definición de un problema de Optimización\n",
    "- Fundamentos de Optimización Numérica\n",
    "    - Reconociendo un mínimizador local\n",
    "    - Condiciones de Optimalidad de 1er orden\n",
    "    - Condiciones de Optimalidad de 2do orden\n",
    "    - Convexidad\n",
    "    "
   ]
  },
  {
   "cell_type": "markdown",
   "id": "983b027e",
   "metadata": {
    "slideshow": {
     "slide_type": "subslide"
    }
   },
   "source": [
    "## En la clase anterior vimos ...\n",
    "\n",
    "- IA = Aprendizaje de un sistema para:\n",
    "    - comportamiento: comunicarse, percibir, actuar\n",
    "    - razonamiento: razonar, planear\n",
    "\n",
    "- En la mayoría de los casos, con el objetivo de *resolver* un problema.\n"
   ]
  },
  {
   "cell_type": "markdown",
   "id": "95c6adbc",
   "metadata": {
    "slideshow": {
     "slide_type": "fragment"
    }
   },
   "source": [
    "<span style=\"background-color:#DFFF00; margin-left:auto; margin-right:auto; width: 100%;\"> Muchos problemas que aborda la IA consisten en encontrar **buenas soluciones** a problemas utilizando **recursos limitados**. </span>"
   ]
  },
  {
   "cell_type": "markdown",
   "id": "975a53d0",
   "metadata": {
    "slideshow": {
     "slide_type": "slide"
    }
   },
   "source": [
    "## Motivación\n",
    "\n",
    "- Un problema de **optimización** implica encontrar los valores de los parámetros que <span style=\"background-color:#DFFF00; margin-left:auto; margin-right:auto; width: 100%;\"> minimizan o maximizan una función de costo o utilidad </span>. \n",
    "\n",
    "- Esta función se conoce como la **función objetivo** y representa la métrica que se desea optimizar. "
   ]
  },
  {
   "cell_type": "markdown",
   "id": "efb12727",
   "metadata": {
    "slideshow": {
     "slide_type": "subslide"
    }
   },
   "source": [
    "## Algunos ejemplos donde la optimización está presente en la vida real son ...\n"
   ]
  },
  {
   "cell_type": "markdown",
   "id": "d03eb349",
   "metadata": {
    "slideshow": {
     "slide_type": "fragment"
    }
   },
   "source": [
    "1. **Crear una ruta óptima para un tour**\n",
    "\n",
    "    - Imagina que eres representante de una banda de rock: dadas las ciudades donde se va a presentar la banda, \n",
    "\n",
    "    <span style=\"background-color:#DFFF00; margin-left:auto; margin-right:auto; width: 100%;\">**¿Cómo organizarías las fechas de presentación de tal modo que se minimicen los costos y tiempos de transporte?**</span><br>\n",
    "\n",
    "    - Este es un problema clásico de optimización que se conoce como el **Problema del Agente Viajero** y tiene muchas aplicaciones, incluyendo la creación de calendarios de eventos deportivos y la optimización de rutas en la entrega de paquetes. \n",
    "    \n",
    "    <img src=\"https://toddwschneider.com/data/salesman/us_state_capitals_tsp.gif\" alt=\"problema-agente-viajero\" style=\"width:60%; margin-left:auto; margin-right:auto;\">\n",
    "    \n",
    "    *Imagen de [toddwschneider.com](https://toddwschneider.com/posts/traveling-salesman-with-simulated-annealing-r-and-shiny/)"
   ]
  },
  {
   "cell_type": "markdown",
   "id": "5ab9f22f",
   "metadata": {
    "slideshow": {
     "slide_type": "fragment"
    }
   },
   "source": [
    "2. **Elegir la mejor ubicación para una estación**\n",
    "\n",
    "    - Imagina que el municipio de León está planeando implementar ECOBICIS, un  sistema que permite a los usuarios tomar una bicicleta de cualquier cicloestación y devolverla en la más cercana a su destino en trayectos ilimitados de 45 minutos. \n",
    "    - El sistema tendrá éxito si las cicloestaciones están ubicadas en lugares donde las personas necesiten tomar o dejar una bicileta. \n",
    "    \n",
    "    <span style=\"background-color:#DFFF00; margin-left:auto; margin-right:auto; width: 100%;\">**¿En qué ubicaciones deberían construirse cicloestaciones de manera que se minimice el costo de inversión al mismo tiempo que se alcanza un nivel mínimo de demanda?**</span>\n",
    "\n",
    "    - Este problema se conoce como el **Problema de Localización de Instalaciones**. También se utiliza para determinar la mejor ubicación de fábricas, almacenes y tiendas. \n",
    "    \n",
    "    <img src=\"https://participa.leon.gob.mx/hm/images/mapadelegaciones-colores.png\" alt=\"problema-localizacion-estaciones\" style=\"width:60%; margin-left:auto; margin-right:auto;\">\n",
    "    \n",
    "*Imagen de participa.leon.gob.mx*\n"
   ]
  },
  {
   "cell_type": "markdown",
   "id": "0fa52f44",
   "metadata": {
    "slideshow": {
     "slide_type": "subslide"
    }
   },
   "source": [
    "## Algunos ejemplos donde la optimización y la IA están presentes en la vida real son ...\n"
   ]
  },
  {
   "cell_type": "markdown",
   "id": "199267ba",
   "metadata": {
    "slideshow": {
     "slide_type": "fragment"
    }
   },
   "source": [
    "**Modelos de riego agrícola para el cultivo:**\n",
    "\n",
    "- Objetivo: Predecir el contenido de agua del suelo.\n",
    "- Datos Utilizados: Sensores de presión, temperatura, caída de lluvia, etc.\n",
    "- Proceso de Optimización: Minimizar la distancia entre los datos reales de humedad y las predicciones del modelo.\n",
    "\n",
    "<img src=\"https://www.cam.ac.uk/sites/www.cam.ac.uk/files/styles/content-885x432/public/news/research/news/dronegettyimagescrop.jpg\" alt=\"ia-cultivo\" style=\"width:60%; margin-left:auto; margin-right:auto;\">\n",
    "    \n",
    "*Imagen de [www.cam.ac.uk](https://www.cam.ac.uk/research/news/risks-of-using-ai-to-grow-our-food-are-substantial-and-must-not-be-ignored-warn-researchers)*\n",
    "    "
   ]
  },
  {
   "cell_type": "markdown",
   "id": "c71b21db",
   "metadata": {
    "slideshow": {
     "slide_type": "fragment"
    }
   },
   "source": [
    "**Modelos de reconocimiento facial para autenticación:**\n",
    "\n",
    "- Objetivo: Verificar la identidad de una persona a través de su rostro.\n",
    "- Datos Utilizados: Imágenes faciales de entrenamiento y prueba.\n",
    "- Proceso de Optimización: Minimizar la diferencia entre las predicciones del modelo y las etiquetas reales de identidad.\n",
    "\n",
    "<img src=\"https://imageio.forbes.com/specials-images/imageserve/1139859542/Facial-Recognition-Technology/960x0.jpg\" alt=\"ia-cultivo\" style=\"width:40%; margin-left:auto; margin-right:auto;\">\n",
    "\n",
    "*Imagen de [www.forbes.com](https://www.forbes.com/sites/korihale/2022/07/05/microsoft-is-scrapping-some-bad-ai-facial-recognition-tools/?sh=364780d8a6b5)*\n",
    "\n"
   ]
  },
  {
   "cell_type": "markdown",
   "id": "e1e23891",
   "metadata": {
    "slideshow": {
     "slide_type": "subslide"
    }
   },
   "source": [
    "Los ejemplos anteriores tienen un conjunto de elementos en común:\n",
    "\n",
    "- **Un conjunto de soluciones candidatas:**\n",
    "    - Todas las posibles permutaciones de ciudades para el tour\n",
    "    - Todos las posibles ubicaciones de un conjunto en el municipio de León.\n",
    "    - Todos los posibles valores para los parámetros de los modelos de predicción de humedad y de reconocimiento facial. \n",
    "    \n",
    "- **Una función de costo:**\n",
    "    - (Min) La distancia y el costo recorrido en el tour.\n",
    "    - (Min-max) El costo de inversión y la demanda del servicio. \n",
    "    - (Min) La distancia/error entre los datos reales y el modelo. \n",
    "    \n",
    "<span style=\"background-color:#DFFF00; margin-left:auto; margin-right:auto; width: 100%;\"> **¿Cuando consideramos el problema resuelto?** </span>"
   ]
  },
  {
   "cell_type": "markdown",
   "id": "82c66af7",
   "metadata": {
    "slideshow": {
     "slide_type": "fragment"
    }
   },
   "source": [
    "Cuando encontramos la/una solución candidata con que genera un costo óptimo (mínimo o máximo global/local)"
   ]
  },
  {
   "cell_type": "markdown",
   "id": "be056a83",
   "metadata": {
    "slideshow": {
     "slide_type": "subslide"
    }
   },
   "source": [
    "## Ejercicio\n",
    "\n",
    "1. Reunete en equipos de 1 a 3 personas e investiguen dos ejemplos más donde esté presente la optimización en la vida real. \n",
    "2. Para cada ejemplo, identifiquen:\n",
    "    - el objetivo/ problema a resolver. \n",
    "    - los datos que se utilizan para resolverlo. \n",
    "    - proceso de optimización:\n",
    "        - ¿Cuáles son las soluciones candidatas?\n",
    "        - ¿Cuál es la función de costo o criterio para medir que tan buena es la solución?\n",
    "        - ¿Es un problema de minimización o maximización?\n",
    "3. Presenten su investigación al grupo. "
   ]
  },
  {
   "cell_type": "markdown",
   "id": "89e1b38c",
   "metadata": {
    "slideshow": {
     "slide_type": "slide"
    }
   },
   "source": [
    "## Definición de un problema de optimización\n",
    "\n",
    "Más formalmente, un problema de optimización es una tupla $(\\mathcal{X}, f)$, donde:\n",
    "\n",
    "- $\\mathcal{X}$: espacio de búsqueda, conjunto de soluciones candidatas. Dependiendo de la naturaleza de $\\mathcal{X}$:\n",
    "    - $\\mathcal{X}$ discreto: optimización combinatoria\n",
    "    - <span style=\"background-color:#DFFF00; margin-left:auto; margin-right:auto; width: 100%;\">$\\mathcal{X}$ continuo: **optimización numérica**  (por ahora nos enfocaremos en este tipo)</span>\n",
    "    \n",
    "- $f$: función objetivo, es decir, un criterio de calidad para medir que tan buena es una solución candidata. Dependiendo de la naturaleza de $f$:\n",
    "    - Si se conoce una expresión analítica para $f$: optimización de caja blanca\n",
    "    - Si no se tiene información de $f$: optimización de caja negra"
   ]
  },
  {
   "cell_type": "markdown",
   "id": "a6be70b5",
   "metadata": {
    "slideshow": {
     "slide_type": "subslide"
    }
   },
   "source": [
    "$$\\newcommand{\\x}{\\mathbf{x}}$$\n",
    "## Optimización numérica\n",
    "\n",
    "El problema general de optimización numérica consiste en minimizar una función objetivo que depende de variables reales, sin ninguna restricción en los valores de éstas:\n",
    "\n",
    "$$\n",
    "\\min_{\\x} f(\\x)\n",
    "$$\n",
    "\n",
    "donde $\\x\\in\\mathbb{R}^n$ es un vector real con $n\\leq 1$ componentes y $f:\\mathbb{R}^n \\rightarrow \\mathbb{R}$ es una función suave (generalmente doblemente diferenciable, $f\\in\\mathcal{C}^2$). \n",
    "\n"
   ]
  },
  {
   "cell_type": "markdown",
   "id": "2d3f7b72",
   "metadata": {
    "slideshow": {
     "slide_type": "subslide"
    }
   },
   "source": [
    "## Optimalidad (¿Qué es una solución?)\n",
    "\n",
    "- Un minimizador global de $f$ es un punto donde la función alcanza su valor mínimo.\n",
    "$$\n",
    "f(\\x^*)\\leq f(\\x), \\forall \\x \\in \\mathbb{R}^n\n",
    "$$"
   ]
  },
  {
   "cell_type": "markdown",
   "id": "2c2216ef",
   "metadata": {
    "slideshow": {
     "slide_type": "fragment"
    }
   },
   "source": [
    "- Un punto $\\x^*$ es un minimizador local si existe una vecindad $\\mathcal{N}$ de $x^*$ tal que:\n",
    "$$\n",
    "f(\\x^*)\\leq f(\\x), \\forall x \\in \\mathcal{N}\n",
    "$$\n",
    "    \n",
    "    (Una vecindad $\\mathcal{N}$ es simplemente un subconjunto del espacio de búsqueda que contiene a $\\x$)\n",
    "    \n"
   ]
  },
  {
   "cell_type": "markdown",
   "id": "d5ff8512",
   "metadata": {
    "slideshow": {
     "slide_type": "fragment"
    }
   },
   "source": [
    "<img src=\"https://personal.math.ubc.ca/~CLP/CLP1/clp_1_dc/text/figs/maxmin3.svg\" alt=\"minimos\" style=\"width:40%; margin-left:auto; margin-right:auto;\">\n",
    "    \n",
    "*Imagen de [personal.math.ubc.ca](https://personal.math.ubc.ca/~CLP/CLP1/clp_1_dc/front.html)*"
   ]
  },
  {
   "cell_type": "markdown",
   "id": "68e97f4c",
   "metadata": {
    "slideshow": {
     "slide_type": "slide"
    }
   },
   "source": [
    "## Fundamentos de Optimización Numérica"
   ]
  },
  {
   "cell_type": "markdown",
   "id": "2d45c61f",
   "metadata": {
    "slideshow": {
     "slide_type": "subslide"
    }
   },
   "source": [
    "<h2 style=\"background-color:#DFFF00; margin-left:auto; margin-right:auto; width: 100%;\"> ¿Cómo reconocemos un punto minimizador local? </h2>\n"
   ]
  },
  {
   "cell_type": "markdown",
   "id": "b347d01d",
   "metadata": {
    "slideshow": {
     "slide_type": "fragment"
    }
   },
   "source": [
    "- Pareciera ser que la única manera es examinar todos los puntos en su vecindad próxima. \n",
    "- No obstante, podemos utilizar Cálculo Diferencial para obtener información local de una función. \n",
    "- En particular, necesitaremos calcular el gradiente $\\nabla f (\\x)$ y Hessiano $\\nabla^2 f (\\x)$ de la función $f(\\x)$.\n"
   ]
  },
  {
   "cell_type": "markdown",
   "id": "3c1ec709",
   "metadata": {
    "slideshow": {
     "slide_type": "subslide"
    }
   },
   "source": [
    "<h2 style=\"background-color:#DFFF00; margin-left:auto; margin-right:auto; width: 100%;\"> ¿Cómo reconocemos un punto minimizador local? </h2>\n",
    "\n",
    "**Intuición con funciones de una sola variable**\n",
    "\n",
    "- Para obtener información sobre la geometría de $f$ cerca del punto $x$, podemos formar una aproximación lineal cerca de este punto (es decir, una tangente que pasa a través del punto $(x, f(x))$). \n",
    "- La aproximación lineal (una serie de Taylor de 1er orden) se expresa como:\n",
    "\n",
    "$$h(w) = f(x) + f'(x)(w-x).$$\n",
    "\n",
    "- Esta aproximación es: \n",
    "    - Lineal en $w$.\n",
    "    - Tangente a $f(w)$ en $x$ ya que $h(x) = f(x)$ y $h'(x) = f'(x)$. \n",
    "\n",
    "\n",
    "<img src=\"imgs/animacion_series_taylor.gif\" alt=\"taylor\" style=\"width:80%; margin-left:auto; margin-right:auto;\">\n"
   ]
  },
  {
   "cell_type": "markdown",
   "id": "c1927027",
   "metadata": {
    "slideshow": {
     "slide_type": "fragment"
    }
   },
   "source": [
    "- Para comprender aún más sobre $f$ cerca de $x$, podemos formar una aproximación cuadrática que contiene información de la primera y segunda derivada. Esta ecuación, una serie de Taylor de 2do orden, se expresa como:\n",
    "\n",
    "$$ h(w) = f(x) + f'(x)(w - x) + \\frac{1}{2}f''(x)(w - x)^2. $$\n",
    "\n",
    "- Esta aproximación:\n",
    "    - Es una representación más cercana de la función subyacente alrededor de x.\n",
    "    - Proporciona información adicional sobre la curvatura (sobre cómo la función se curva en el espacio, en este caso está relacionada con la concavidad o convexidad de la función).\n"
   ]
  },
  {
   "cell_type": "code",
   "execution_count": 11,
   "id": "9e0490ef",
   "metadata": {
    "hideCode": true,
    "hideOutput": true,
    "hidePrompt": true,
    "scrolled": true,
    "slideshow": {
     "slide_type": "skip"
    }
   },
   "outputs": [
    {
     "name": "stderr",
     "output_type": "stream",
     "text": [
      "MovieWriter ffmpeg unavailable; using Pillow instead.\n",
      "C:\\Users\\alvaradocde\\AppData\\Local\\Temp\\ipykernel_10944\\3040154657.py:39: MatplotlibDeprecationWarning: Setting data with a non sequence type is deprecated since 3.7 and will be remove two minor releases later\n",
      "  punto_x.set_data(frame, funcion_original(frame))\n"
     ]
    },
    {
     "data": {
      "image/png": "[encoded data removed]",
      "text/plain": [
       "<Figure size 1000x600 with 1 Axes>"
      ]
     },
     "metadata": {},
     "output_type": "display_data"
    }
   ],
   "source": [
    "import numpy as np\n",
    "import matplotlib.pyplot as plt\n",
    "from matplotlib.animation import FuncAnimation\n",
    "from IPython.display import display\n",
    "\n",
    "def funcion_original(x):\n",
    "    return np.sin(x) + np.sin((10.0 / 3.0) * x)\n",
    "\n",
    "def serie_taylor_1er_orden(x, w):\n",
    "    g_v = funcion_original(x)\n",
    "    g_prima_v = np.gradient(funcion_original(w), w)\n",
    "    return g_v + g_prima_v[np.abs(w - x).argmin()] * (w - x)\n",
    "\n",
    "def serie_taylor_2do_orden(v, w):\n",
    "    g_v = funcion_original(v)\n",
    "    g_prima_v = np.gradient(funcion_original(w), w)\n",
    "    g_double_prima_v = np.gradient(g_prima_v, w)\n",
    "    return g_v + g_prima_v[np.abs(w - v).argmin()] * (w - v) + 0.5 * g_double_prima_v[np.abs(w - v).argmin()] * (w - v)**2\n",
    "\n",
    "fig, ax = plt.subplots(figsize=(10, 6))\n",
    "punto_x = 1.5\n",
    "valores_x = np.linspace(-2.7, 7.5, 1000)\n",
    "\n",
    "ax.plot(valores_x, funcion_original(valores_x), label='f(x)', linewidth=2)\n",
    "linea_1er_orden, = ax.plot(valores_x, serie_taylor_1er_orden(punto_x, valores_x), label='Aproximacion 1er Orden', linestyle='--')\n",
    "linea_2do_orden, = ax.plot(valores_x, serie_taylor_2do_orden(punto_x, valores_x), label='Aproximacion 2do Orden', linestyle='--')\n",
    "punto_x, = ax.plot([], [], 'ro', label='Punto x')  # \n",
    "\n",
    "ax.set_title('Aproximaciones por Series de Taylor')\n",
    "ax.set_xlabel(r'$x$')\n",
    "ax.set_ylabel(r'$f(x)$')\n",
    "ax.legend()\n",
    "ax.set_ylim([-2, 2])\n",
    "ax.grid(True)\n",
    "\n",
    "def actualizar(frame):\n",
    "    linea_1er_orden.set_ydata(serie_taylor_1er_orden(frame, valores_x))\n",
    "    linea_2do_orden.set_ydata(serie_taylor_2do_orden(frame, valores_x))\n",
    "    punto_x.set_data(frame, funcion_original(frame))\n",
    "    return linea_1er_orden, linea_2do_orden, punto_x\n",
    "\n",
    "animation = FuncAnimation(fig, actualizar, frames=np.linspace(-2.7, 7.5, 1000), interval=100)\n",
    "animation.save(\"animacion_series_taylor.gif\")\n",
    "\n",
    "# Mostrar animacion\n",
    "plt.show()\n"
   ]
  },
  {
   "cell_type": "markdown",
   "id": "3afda9ab",
   "metadata": {
    "slideshow": {
     "slide_type": "subslide"
    }
   },
   "source": [
    "$$\\newcommand{\\x}{\\mathbf{x}}$$\n",
    "\n",
    "De manera análoga, para una función de entrada vectorial $\\x = [x_1, x_2, \\ldots, x_N]^T$** se puede obtener información sobre la geometría de la función mediante el gradiente y la matriz hessiana. \n",
    "\n",
    "- <span style=\"background-color:#DFFF00; margin-left:auto; margin-right:auto; width: 100%;\"> **Gradiente:** </span> es un vector de dimensiones $N \\times 1$, que contiene las derivadas parciales de $f$ con respecto a $x_1, x_2, ..., x_N$, donde $\\x$ es el punto de interés. \n",
    "\n",
    "$$\n",
    "\\nabla f(\\x) = \\left[ \\frac{\\partial f(\\x)}{\\partial x_1} \\;  \\frac{\\partial f(\\x)}{\\partial x_2} \\; ... \\frac{\\partial f(\\x)}{\\partial x_N}  \\right]^T$$\n",
    "\n",
    "- <span style=\"background-color:#DFFF00; margin-left:auto; margin-right:auto; width: 100%;\"> **Matriz Hessiana**: </span> es una matriz simétrica de dimensiones $N \\times N$, que contiene las segundas derivadas de $f$. \n",
    "\n",
    "$$\\nabla^2 f(\\x) = \\begin{bmatrix}\n",
    "\\frac{\\partial f(\\x)}{\\partial x_1 \\partial x_1} & \\frac{\\partial f(\\x)}{\\partial x_1 \\partial x_2} & ... & \\frac{\\partial f(\\x)}{\\partial x_1 \\partial x_N} \\\\\n",
    "\\frac{\\partial f(\\x)}{\\partial x_2 \\partial x_1} & \\frac{\\partial f(\\x)}{\\partial x_2 \\partial x_2} & ... & \\frac{\\partial f(\\x)}{\\partial x_2 \\partial x_N} \\\\\n",
    "\\vdots & \\vdots &  \\ddots & \\vdots \\\\\n",
    "\\frac{\\partial f(\\x)}{\\partial x_N \\partial x_1} & \\frac{\\partial f(\\x)}{\\partial x_N \\partial x_2} & ... & \\frac{\\partial f(\\x)}{\\partial x_N \\partial x_N}\n",
    "\\end{bmatrix}\n",
    "$$"
   ]
  },
  {
   "cell_type": "markdown",
   "id": "f803e9c0",
   "metadata": {
    "slideshow": {
     "slide_type": "fragment"
    }
   },
   "source": [
    "- <span style=\"background-color:#DFFF00; margin-left:auto; margin-right:auto; width: 100%;\"> **Aproximación Lineal (Serie de Taylor de 1er Orden):** </span>\n",
    "   $$h(w) = f(x) + \\nabla f(x)^T \\cdot (w - x)$$\n",
    "   donde $\\nabla f(x)$ es el vector gradiente. \n",
    "\n",
    "- <span style=\"background-color:#DFFF00; margin-left:auto; margin-right:auto; width: 100%;\"> **Aproximación Cuadrática (Serie de Taylor de 2do Orden):** </span>\n",
    "   $$h(w) = f(x) + \\nabla f(x)^T \\cdot (w - x) + \\frac{1}{2} (w - x)^T \\cdot \\nabla^2 f(x) \\cdot (w - x)$$\n",
    "   donde $\\nabla^2 f(x)$ es la matriz hessiana. \n",
    "\n",
    "----\n"
   ]
  },
  {
   "cell_type": "markdown",
   "id": "c22faf78",
   "metadata": {
    "slideshow": {
     "slide_type": "subslide"
    }
   },
   "source": [
    "**... pero volviendo a la pregunta:**\n",
    "\n",
    "<h2 style=\"background-color:#DFFF00; margin-left:auto; margin-right:auto; width: 100%;\"> ¿Cómo reconocemos un punto minimizador local? </h2>\n",
    "\n",
    "- **Teorema. Condición necesaria de primer orden.** Si $\\x^*$ es un minimizador local y $f$ es continuamente diferenciable en una vecindad de $\\x^*$, entonces $\\nabla f (\\x^*) = \\mathbf{0}$. \n",
    "\n",
    "- Es decir, los puntos que minimizan una función se distinguen porque el hiperplano tangente a la función en ese punto tiene una pendiente cero. \n",
    "\n",
    "- <span style=\"background-color: #fffdaf; margin-left:auto; margin-right:auto; width: 100%;\">Sin embargo, ésta no es una condición suficiente para identificar un minimizador local, ¿Por qué? </span>"
   ]
  },
  {
   "cell_type": "markdown",
   "id": "a7a5b419",
   "metadata": {
    "slideshow": {
     "slide_type": "fragment"
    }
   },
   "source": [
    "<img src=\"imgs/puntos-estacionarios.png\" alt=\"Puntos estacionarios\" style=\"width:80%; margin-left:auto; margin-right:auto;\">\n",
    "\n",
    "- Un punto $\\x$ es un punto estacionario de una función $f$ cuando se cumple la condición de todas sus derivadas parciales son nulas, es decir $\\nabla f (\\x) = \\mathbf{0}$. Esto se cumple para puntos que minimizan, maximizan o son puntos \"silla\". "
   ]
  },
  {
   "cell_type": "markdown",
   "id": "2fc0e1d9",
   "metadata": {
    "hideCode": false,
    "slideshow": {
     "slide_type": "fragment"
    }
   },
   "source": [
    "- **Teorema. Condición necesaria de segundo orden.** Si $\\x^*$ es un minimizador local de $f$ y $\\nabla^2 f(\\x)$ existe y es continua en un vecindario de $\\x^*$, entonces $\\nabla f (\\x^*) = \\mathbf{0}$ y $\\nabla^2 f(\\x)$ es semidefinida positiva. \n",
    "\n",
    "- Es decir, los puntos que minimizan una función se distinguen porque su matriz hessiana tiene una curvatura *positiva*: se cumple que $\\mathbf{v}^T \\nabla^2 f(\\x) \\mathbf{v} \\geq 0$ para todo $\\mathbf{v}\\in\\mathbb{R}^N$. "
   ]
  },
  {
   "cell_type": "markdown",
   "id": "69f445cf",
   "metadata": {
    "slideshow": {
     "slide_type": "subslide"
    }
   },
   "source": [
    "## Ejercicio\n",
    "\n",
    "Encuentra los puntos estacionarios de las siguientes funciones:\n",
    "\n",
    "1. $f(x)=x^2-2x+1$\n",
    "2. $f(x)=x^3$\n",
    "3. $f(x,y)=x^2+y^2−2xy$\n",
    "4. $f(\\x)= \\frac{1}{2} \\x^T\\mathbf{Q}\\x+\\mathbf{r}^T\\x+d$\n"
   ]
  },
  {
   "cell_type": "markdown",
   "id": "3197e652",
   "metadata": {
    "slideshow": {
     "slide_type": "fragment"
    }
   },
   "source": [
    "<h3 style=\"background-color:#DFFF00; margin-left:auto; margin-right:auto; width: 100%;\"> Fórmulas de derivadas vectoriales </h3>\n",
    "$\\newcommand{\\A}{\\mathbf{A}}$\n",
    "\n",
    "| $f(\\x)$              | | $\\frac{\\partial f(\\x)}{\\partial \\x}$ |\n",
    "|----------------------|-| -----------------------|\n",
    "| $\\A\\x$               | |  $\\A^T$                |\n",
    "| $\\x^T\\A$             | |  $\\A$                  |\n",
    "| $\\x^T\\x$             | |  $2\\x$                 |\n",
    "| $\\x^T\\A\\x$           | |  $\\A\\x + \\A^T\\x$       |\n"
   ]
  },
  {
   "cell_type": "markdown",
   "id": "843133d9",
   "metadata": {
    "slideshow": {
     "slide_type": "subslide"
    }
   },
   "source": [
    "1. $f(x)=x^2-2x+1$\n",
    "\n",
    "<img src=\"imgs/x2-2x+1.png\" alt=\"ejercicio1\" style=\"width:40%; margin-left:auto; margin-right:0;\">"
   ]
  },
  {
   "cell_type": "markdown",
   "id": "007a58e1",
   "metadata": {
    "slideshow": {
     "slide_type": "subslide"
    }
   },
   "source": [
    "2. $f(x)=x^3$\n",
    "\n",
    "<img src=\"imgs/x3.png\" alt=\"ejercicio2\" style=\"width:40%; margin-left:auto; margin-right:0;\">"
   ]
  },
  {
   "cell_type": "markdown",
   "id": "bd614342",
   "metadata": {
    "slideshow": {
     "slide_type": "subslide"
    }
   },
   "source": [
    "3. $f(x,y)=x^2+y^2−2xy$\n",
    "\n",
    "<img src=\"imgs/x2+y2-2xy.png\" alt=\"ejercicio3\" style=\"width:30%; margin-left:auto; margin-right:0;\">"
   ]
  },
  {
   "cell_type": "markdown",
   "id": "b57f21d6",
   "metadata": {
    "slideshow": {
     "slide_type": "subslide"
    }
   },
   "source": [
    "4. $f(\\x)= \\frac{1}{2} \\x^T\\mathbf{Q}\\x+\\mathbf{r}^T\\x+d$\n"
   ]
  },
  {
   "cell_type": "markdown",
   "id": "dcc31086",
   "metadata": {
    "slideshow": {
     "slide_type": "slide"
    }
   },
   "source": [
    "## Convexidad\n",
    "\n",
    "- Resolver un problema de optimización-IA eventualmente se reduce a encontrar el mínimo de una función de costo asociada. \n",
    "- De todos (potencialmente muchos) los mínimos de una función de costo, estamos especialmente interesados en el que proporciona el menor costo posible, conocido como **mínimo global**. \n",
    "\n",
    "<h3 style=\"background-color:#DFFF00; margin-left:auto; margin-right:auto; width: 100%;\"> Funciones convexas </h3>\n",
    "\n",
    "- Son una familia especial de funciones donde la condición de primer orden es particularmente útil porque todos los puntos estacionarios de una función convexa son mínimos globales. \n",
    "- Las funciones están libres de máximos y puntos de silla, así como de mínimos no globales.\n",
    "\n",
    "\n",
    "<img src=\"https://dropinblog.net/34249715/files/auxiliar-post/concavo-convexo-3.png\" alt=\"concavo_vs_convexo\" style=\"width:50%; margin-left:auto; margin-right:auto;\">\n",
    "\n",
    "*Imagen de [dropinblog.net](https://cursos.frogamesformacion.com/pages/blog/concava-y-convexa-la-gente-se-confunde)*\n"
   ]
  },
  {
   "cell_type": "markdown",
   "id": "8f20b6df",
   "metadata": {
    "slideshow": {
     "slide_type": "fragment"
    }
   },
   "source": [
    "<h3 style=\"background-color:#DFFF00; margin-left:auto; margin-right:auto; width: 100%;\"> ¿Cómo sabemos si una función es convexa en un punto? </h3>\n",
    "\n",
    "- Para funciones $f: \\mathbb{R} \\rightarrow \\mathbb{R}$,\n",
    "    - Si $f''(x) \\geq 0$, entonces $f$ es convexa en el punto $x$.\n",
    "    - Si $f''(x) \\leq 0$, entonces $f$ es concava en el punto $x$.\n",
    "\n",
    "- Para funciones $f: \\mathbb{R}^N \\rightarrow \\mathbb{R}$,\n",
    "    - Si $\\nabla^2 f (\\x)$ es semidefinida positiva, $f$ es convexa en el punto $\\x$.\n",
    "    - Si $\\nabla^2 f (\\x)$ es semidefinida negativa, $f$ es concava en el punto $\\x$.\n",
    "\n",
    "\n",
    "\n",
    "\n"
   ]
  },
  {
   "cell_type": "markdown",
   "id": "17d9fe6c",
   "metadata": {
    "slideshow": {
     "slide_type": "fragment"
    }
   },
   "source": [
    "**Por ejemplo, ¿cuáles de las siguientes funciones son convexas?**\n",
    "\n",
    "- $f (x) = x^3$\n",
    "- $g (x) = e^x$\n",
    "- $h (x) = sin(x)$\n",
    "- $m (x) = x^2$ "
   ]
  },
  {
   "cell_type": "markdown",
   "id": "734fe73a",
   "metadata": {
    "slideshow": {
     "slide_type": "fragment"
    }
   },
   "source": [
    "- $f (x) = x^3$, su segunda derivada es $f′′ (x) = 6x$. No siempre es un valor positivo o cero, por lo tanto $f$ no es convexa. \n",
    "- $g (x) = e^x$, su segunda derivada es $g′′ (x) = e^x$. Siempre es un valor positivo para cualquier $x$, por lo tanto $g$ es convexa.\n",
    "- $h (x) = sin(x)$, su segunda derivada es $h′′(x) = −sin (x)$. No siempre es un valor positivo o cero, por lo tanto $h$ no es convexa. \n",
    "- $m(x) = x^2$, su segunda derivada es $m′′(x) = 2$. Por lo tanto, $m$ es convexa."
   ]
  },
  {
   "cell_type": "code",
   "execution_count": 13,
   "id": "6f6fb0e2",
   "metadata": {
    "hideCode": true,
    "hideOutput": true,
    "hidePrompt": true,
    "slideshow": {
     "slide_type": "skip"
    }
   },
   "outputs": [
    {
     "name": "stdout",
     "output_type": "stream",
     "text": [
      "C:\\Users\\alvaradocde\\Documents\\2024\\ibero\\inteligencia-artificial\\clases\\clase03_fundamentos-optimizacion.html\n"
     ]
    }
   ],
   "source": [
    "import os\n",
    "from pyhtml2pdf import converter\n",
    "\n",
    "path = os.path.abspath('clase03_fundamentos-optimizacion.html')\n",
    "print(path)\n",
    "converter.convert(f'file:///{path}', 'clase03_fundamentos-optimizacion.pdf')"
   ]
  }
 ],
 "metadata": {
  "celltoolbar": "Slideshow",
  "kernelspec": {
   "display_name": "Python 3 (ipykernel)",
   "language": "python",
   "name": "python3"
  },
  "language_info": {
   "codemirror_mode": {
    "name": "ipython",
    "version": 3
   },
   "file_extension": ".py",
   "mimetype": "text/x-python",
   "name": "python",
   "nbconvert_exporter": "python",
   "pygments_lexer": "ipython3",
   "version": "3.11.5"
  }
 },
 "nbformat": 4,
 "nbformat_minor": 5
}

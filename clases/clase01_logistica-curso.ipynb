{
 "cells": [
  {
   "cell_type": "markdown",
   "id": "1525ff23",
   "metadata": {
    "slideshow": {
     "slide_type": "slide"
    }
   },
   "source": [
    "# Inteligencia Artificial\n",
    "## Clase 01: Logística del Curso\n",
    "\n",
    "### Primavera 2024\n",
    "\n",
    "#### Dra. Dora Alvarado\n",
    "* 27382@iberoleon.edu.mx \n",
    "* doraelisa.alvaradocarrillo@iberoleon.edu.mx\n",
    "\n"
   ]
  },
  {
   "cell_type": "markdown",
   "id": "19a96360",
   "metadata": {
    "slideshow": {
     "slide_type": "slide"
    }
   },
   "source": [
    "## Contenido\n",
    "\n",
    "- Logistica del curso\n",
    "    - Información de contacto\n",
    "    - Qué esperar y que NO esperar del curso\n",
    "    - Prerrequisitos\n",
    "    - Objetivos\n",
    "- Código de conducta\n",
    "    - Comunicación oficial 455\n",
    "- Forma de evaluación\n",
    "    - Calificaciones por parcial\n",
    "    - Ponderaciones sobre calificación final\n",
    "- Temario\n",
    "- Fechas importantes\n",
    "- Material de estudio"
   ]
  },
  {
   "cell_type": "markdown",
   "id": "66e498cd",
   "metadata": {
    "slideshow": {
     "slide_type": "slide"
    }
   },
   "source": [
    "## Logística del curso"
   ]
  },
  {
   "cell_type": "markdown",
   "id": "787576e8",
   "metadata": {
    "slideshow": {
     "slide_type": "subslide"
    }
   },
   "source": [
    "### Información de contacto\n",
    "\n",
    "- Instructora: Dora Alvarado\n",
    "- Puesto: Profesora de Asignatura en Universidad Iberoamericana León\n",
    "- Habilidades: Python, C\\C++, Java\n",
    "- Intereses: \n",
    "    - Ciencias de la Computación\n",
    "        - Inteligencia Artificial\n",
    "        - Procesamiento de Imágenes Biomédicas\n",
    "        - Análisis de Datos\n",
    "    - Matemáticas\n",
    "        - Álgebra Lineal\n",
    "        - Optimización \n",
    "        - Métodos Numéricos\n",
    "- Medios de contacto: \n",
    "    - Email: \n",
    "        - 27382@iberoleon.edu.mx \n",
    "        - doraelisa.alvaradocarrillo@iberoleon.edu.mx\n",
    "    - Teams"
   ]
  },
  {
   "cell_type": "markdown",
   "id": "bdfcec38",
   "metadata": {
    "hideCode": false,
    "slideshow": {
     "slide_type": "subslide"
    }
   },
   "source": [
    "\n",
    "### Qué esperar y qué no esperar del curso\n",
    "\n",
    "<div class=\"column\" style=\"margin-left:auto; margin-right:auto; width: 70%;\">\n",
    "    <h4 style=\"background-color:#FFB695;\">En esta clase NO aprenderemos:</h4>\n",
    "      <ul>\n",
    "        <li><b>Algoritmos Genéticos:</b> No se cubrirán algoritmos genéticos ni técnicas basadas en evolución, ya que el enfoque está en aprendizaje supervisado y no supervisado.</li>\n",
    "        <li><b>Procesamiento del Lenguaje Natural (NLP):</b> Temas relacionados con NLP, como análisis de sentimientos, procesamiento de texto y traducción automática, no forman parte del contenido del curso. </li>\n",
    "        <li><b>Teoría de Juegos:</b> Aspectos avanzados de teoría de juegos no serán tratados, ya que el curso se centra en técnicas de aprendizaje automático y no en estrategias de juego. </li>\n",
    "      </ul>\n",
    "</div>\n"
   ]
  },
  {
   "cell_type": "markdown",
   "id": "5e5da10c",
   "metadata": {
    "slideshow": {
     "slide_type": "fragment"
    }
   },
   "source": [
    "<div class=\"column\" style=\"margin-left:auto; margin-right:auto; width: 70%;\">\n",
    "        <h4 style=\"background-color:#96D1CD; \">En esta clase SI aprenderemos:</h4>\n",
    "        <ul>\n",
    "            <li><b>Optimización y Descenso de Gradiente:</b> Se explorarán fundamentos de optimización y algoritmos de descenso de gradiente, importantes para el entrenamiento de modelos. </li>\n",
    "            <li><b>Redes Neuronales y Redes Profundas: </b>El curso incluirá el estudio de redes neuronales, desde perceptrones simples hasta redes profundas, cubriendo arquitecturas y entrenamiento.</li>\n",
    "            <li><b>Aprendizaje Supervisado y No Supervisado: </b>El enfoque principal será en técnicas de aprendizaje supervisado y no supervisado, abarcando desde regresión hasta agrupamiento.</li>\n",
    "            <li><b>Reducción de Dimensionalidad:</b> Métodos como el Análisis de Componentes Principales (PCA) serán tratados para reducir la dimensionalidad de los datos.</li>\n",
    "          </ul>\n",
    "</div>"
   ]
  },
  {
   "cell_type": "markdown",
   "id": "00319888",
   "metadata": {
    "slideshow": {
     "slide_type": "subslide"
    }
   },
   "source": [
    "## Prerrequisitos\n",
    "\n",
    "- **Programación en Python:** Conocimiento sólido de programación en Python, incluyendo manipulación de datos, estructuras de control, funciones y módulos.\n",
    "\n",
    "- **Fundamentos de Matemáticas:** Comprensión básica de conceptos matemáticos como álgebra lineal, cálculo y estadísticas. Esto es esencial para entender los algoritmos y modelos utilizados.\n",
    "\n",
    "## Deseable pero no indispensable\n",
    "\n",
    "- **Manejo de Bibliotecas de Python:** Familiaridad con bibliotecas populares de Python como NumPy, Pandas, Scikit-Learn.\n",
    "\n",
    "- **Experiencia con Jupyter Notebooks:** Capacidad para trabajar con Jupyter Notebooks para el desarrollo y presentación de código desarrollado durante clases. "
   ]
  },
  {
   "cell_type": "markdown",
   "id": "4d581d65",
   "metadata": {
    "slideshow": {
     "slide_type": "subslide"
    }
   },
   "source": [
    "## Objetivos\n",
    "\n",
    "- **Dominio de Técnicas Avanzadas de Machine Learning:** Desarrollar un dominio avanzado en técnicas de machine learning, incluyendo algoritmos de aprendizaje profundo y extracción manual de características.\n",
    "\n",
    "- **Aplicación Práctica en Proyectos Reales:** Aplicar sus conocimientos en proyectos prácticos del mundo real, fortaleciendo su habilidad para abordar problemas complejos.\n"
   ]
  },
  {
   "cell_type": "markdown",
   "id": "7295dfef",
   "metadata": {
    "slideshow": {
     "slide_type": "slide"
    }
   },
   "source": [
    "## Código de conducta\n",
    "\n",
    "Versión Resumida: \n",
    "\n",
    "<p style=\"background: #FCF3CF;\"><b>Cualquier indisciplina en el salón de clase implicará la salida del salón con falta y un reporte a la coordinación de la carrera.</b></p>\n"
   ]
  },
  {
   "cell_type": "markdown",
   "id": "c9c3f900",
   "metadata": {
    "slideshow": {
     "slide_type": "subslide"
    }
   },
   "source": [
    "Versión Extendida:\n",
    "\n",
    "- **Respeto mutuo.** Respetamos y valoramos las opiniones, experiencias y habilidades de todos en la clase. No toleramos el acoso, la discriminación o cualquier forma de comportamiento irrespetuoso.\n",
    "- **Uso de recursos.** Utiliza los recursos de la clase, incluidos materiales de lectura, códigos y ejemplos, de manera ética y responsable. \n",
    "  Se realizarán exclusivamente tareas relativas a la materia en el salón de clases. En caso de no cumplir esta regla, el alumno tendrá que salir del salón y se asignará una falta en dicha sesión.\n",
    "- **Puntualidad y responsabilidad.** Llega a tiempo a las clases (tolerancia de 10min) y cumple con las fechas límite establecidas para entregar tus trabajos. La responsabilidad personal es clave para el éxito en esta clase.\n",
    "- **Fechas de Exámenes.** No se aplicarán exámenes fuera de las fechas indicadas por ninguna razón. Es responsabilidad de cada estudiante planificar y prepararse para las evaluaciones programadas.\n",
    "- **Plagio y Trampas.** El plagio, incluyendo el uso no autorizado de código, es inaceptable. Las tareas deben basarse completamente en el trabajo propio del estudiante. \n",
    "  Se permite discutir técnicas generales de codificación y estrategias de resolución de problemas, pero está prohibido copiar, mirar el código de otra persona o permitir la copia. Violaciones a esta política resultarán en cero crédito para los problemas afectados. Violaciones continuas llevarán a acciones disciplinarias.\n"
   ]
  },
  {
   "cell_type": "markdown",
   "id": "8cc8e452",
   "metadata": {
    "slideshow": {
     "slide_type": "subslide"
    }
   },
   "source": [
    "<h2 style=\"color:red;\"> Comunicación Oficial No. 455: Lineamientos académicos sobre plagio y fraude</h2>\n",
    "\n",
    "<img src=\"./imgs/comunicado455-parte1.png\" alt=\"Plagio y fraude\" style=\"width:80%; margin-left:auto; margin-right:auto;\">"
   ]
  },
  {
   "cell_type": "markdown",
   "id": "957c5cf6",
   "metadata": {
    "slideshow": {
     "slide_type": "subslide"
    }
   },
   "source": [
    "<h2 style=\"color:red;\"> Comunicación Oficial No. 455: Lineamientos académicos sobre plagio y fraude</h2>\n",
    "\n",
    "<img src=\"./imgs/comunicado455-parte2.png\" alt=\"Plagio y fraude\" style=\"width:80%; margin-left:auto; margin-right:auto;\">"
   ]
  },
  {
   "cell_type": "markdown",
   "id": "c41440bb",
   "metadata": {
    "slideshow": {
     "slide_type": "subslide"
    }
   },
   "source": [
    "<h2 style=\"color:red;\"> Comunicación Oficial No. 455: Lineamientos académicos sobre plagio y fraude</h2>\n",
    "\n",
    "<img src=\"./imgs/comunicado455-parte3.png\" alt=\"Plagio y fraude\" style=\"width:80%; margin-left:auto; margin-right:auto;\">"
   ]
  },
  {
   "cell_type": "markdown",
   "id": "040dad45",
   "metadata": {
    "slideshow": {
     "slide_type": "slide"
    }
   },
   "source": [
    "## Forma de Evaluación\n",
    "\n",
    "<h3 style=\"background-color:#DFFF00; margin-left:auto; margin-right:auto; width: 70%;\">Calificaciones por parcial</h3>\n",
    "\n",
    "| Parcial | Trabajo en Clase | Quizzes | Tareas | Proyecto | Examen |\n",
    "|---------|------------------|---------|--------|----------|--------|\n",
    "| **1**   | 20%              | 20%     | 20%    | -        | 40%    |\n",
    "| **2**   | 20%              | 20%     | 20%    | -        | 40%    |\n",
    "| **3**   | 10%              | 10%     | 10%    | 35%      | 35%    |\n"
   ]
  },
  {
   "cell_type": "markdown",
   "id": "aee71636",
   "metadata": {
    "slideshow": {
     "slide_type": "fragment"
    }
   },
   "source": [
    "<h3 style=\"background-color:#DFFF00; margin-left:auto; margin-right:auto; width: 70%;\">Ponderación sobre la Calificación Final</h3>\n",
    "\n",
    "| Parcial | Ponderación sobre Calificación Final |\n",
    "|---------|-------------------------------------|\n",
    "| **1**   | 30%                                 |\n",
    "| **2**   | 30%                                 |\n",
    "| **3**   | 40%                                 |\n",
    "\n"
   ]
  },
  {
   "cell_type": "markdown",
   "id": "825148aa",
   "metadata": {
    "slideshow": {
     "slide_type": "slide"
    }
   },
   "source": [
    "## Temario (sujeto a cambios según sea necesario):\n",
    "\n",
    "<img src=\"./imgs/temario.png\" alt=\"Temario del curso\" style=\"width:85%; margin-left:auto; margin-right:auto;\">"
   ]
  },
  {
   "cell_type": "markdown",
   "id": "a3c5e04c",
   "metadata": {
    "slideshow": {
     "slide_type": "subslide"
    }
   },
   "source": [
    "## Temario (sujeto a cambios según sea necesario):\n",
    "\n",
    "<table>\n",
    "  <thead>\n",
    "    <tr>\n",
    "      <th style=\"text-align:left;\">Semana</th>\n",
    "      <th style=\"text-align:left;\">Fechas</th>\n",
    "      <th style=\"text-align:left;\">Temas / Actividades</th>\n",
    "    </tr>\n",
    "  </thead>\n",
    "  <tbody>\n",
    "    <tr>\n",
    "      <td style=\"text-align:left;\">1</td>\n",
    "      <td style=\"text-align:left;\">Del 15 al 19 de enero</td>\n",
    "      <td style=\"text-align:left;\">Logística del curso<br>Introducción a la inteligencia artificial</td>\n",
    "    </tr>\n",
    "    <tr>\n",
    "      <td style=\"text-align:left;\">2</td>\n",
    "      <td style=\"text-align:left;\">Del 22 al 26 de enero</td>\n",
    "      <td style=\"text-align:left;\">Fundamentos de optimización<br><span style=\"background-color:#6495ED; color:white;\">Tarea 1</span></td>\n",
    "    </tr>\n",
    "    <tr>\n",
    "      <td style=\"text-align:left;\">3</td>\n",
    "      <td style=\"text-align:left;\">Del 29 de enero al 2 de febrero</td>\n",
    "      <td style=\"text-align:left;\">Algoritmos de optimización de descenso</td>\n",
    "    </tr>\n",
    "    <tr>\n",
    "      <td style=\"text-align:left;\">4</td>\n",
    "      <td style=\"text-align:left;\">Del 5 al 9 de febrero</td>\n",
    "      <td style=\"text-align:left;\">Regresión por mínimos cuadrados<br>Regresión logística<br><span style=\"background-color:#6495ED; color:white;\">Tarea 2</span></td>\n",
    "    </tr>\n",
    "    <tr>\n",
    "      <td style=\"text-align:left;\">5</td>\n",
    "      <td style=\"text-align:left;\">Del 12 al 16 de febrero</td>\n",
    "      <td style=\"text-align:left;\">Repaso 1er Parcial<br><span style=\"background-color:#DFFF00;\">Examen</span></td>\n",
    "    </tr>\n",
    "    <tr>\n",
    "      <td style=\"text-align:left;\">6</td>\n",
    "      <td style=\"text-align:left;\">Del 19 al 23 de febrero</td>\n",
    "      <td style=\"text-align:left;\">Clasificación<br>K vecinos más cercanos<br>Máquinas de soporte vectorial</td>\n",
    "    </tr>\n",
    "    <tr>\n",
    "      <td style=\"text-align:left;\">7</td>\n",
    "      <td style=\"text-align:left;\">Del 26 de febrero al 1 de marzo</td>\n",
    "      <td style=\"text-align:left;\">K-Medias<br>Agrupamiento espectral<br><span style=\"background-color:#6495ED; color:white;\">Tarea 3</span></td>\n",
    "    </tr>\n",
    "    <tr>\n",
    "      <td style=\"text-align:left;\">8</td>\n",
    "      <td style=\"text-align:left;\">Del 4 al 8 de marzo</td>\n",
    "      <td style=\"text-align:left;\">Reducción de dimensionalidad<br>Análisis de Componentes Principales</td>\n",
    "    </tr>\n",
    "    <tr>\n",
    "      <td style=\"text-align:left;\">9</td>\n",
    "      <td style=\"text-align:left;\">Del 11 al 15 de marzo</td>\n",
    "      <td style=\"text-align:left;\">Factorización de Matrices No Negativas<br><span style=\"background-color:#6495ED; color:white;\">Tarea 4</span></td>\n",
    "    </tr>\n",
    "    <tr>\n",
    "      <td style=\"text-align:left;\">10</td>\n",
    "      <td style=\"text-align:left;\">Del 18 al 22 de marzo</td>\n",
    "      <td style=\"text-align:left;\">Repaso 2do Parcial<br><span style=\"background-color:#DFFF00;\">Examen</span></td>\n",
    "    </tr>\n",
    "    <tr>\n",
    "      <td style=\"text-align:left;\">-</td>\n",
    "      <td style=\"text-align:left;\">Del 25 al 29 de marzo</td>\n",
    "      <td style=\"text-align:left;\">Suspensión de labores</td>\n",
    "      <td style=\"text-align:left;\"></td>\n",
    "    </tr>\n",
    "    <tr>\n",
    "      <td style=\"text-align:left;\">11</td>\n",
    "      <td style=\"text-align:left;\">Del 1 al 5 de abril</td>\n",
    "      <td style=\"text-align:left;\">Redes Neuronales<br>1ra Reunión Proyectos Finales<br>(Sesión grupal, presentación de propuestas)</td>\n",
    "    </tr>\n",
    "    <tr>\n",
    "      <td style=\"text-align:left;\">12</td>\n",
    "      <td style=\"text-align:left;\">Del 8 al 12 de abril</td>\n",
    "      <td style=\"text-align:left;\">Redes Multicapa<br><span style=\"background-color:#6495ED; color:white;\">Tarea 5</span></td>\n",
    "    </tr>\n",
    "    <tr>\n",
    "      <td style=\"text-align:left;\">13</td>\n",
    "      <td style=\"text-align:left;\">Del 15 al 19 de abril</td>\n",
    "      <td style=\"text-align:left;\">Redes Profundas de Convolución</td>\n",
    "    </tr>\n",
    "    <tr>\n",
    "      <td style=\"text-align:left;\">14</td>\n",
    "      <td style=\"text-align:left;\">Del 22 al 26 de abril</td>\n",
    "      <td style=\"text-align:left;\">Redes Generadoras Antagónicas<br><span style=\"background-color:#6495ED; color:white;\">Tarea 6</span></td>\n",
    "    </tr>\n",
    "    <tr>\n",
    "      <td style=\"text-align:left;\">15</td>\n",
    "      <td style=\"text-align:left;\">Del 29 de abril al 3 de mayo</td>\n",
    "      <td style=\"text-align:left;\">Repaso 3er Parcial<br><span style=\"background-color:#DFFF00;\">Examen</span></td>\n",
    "    </tr>\n",
    "    <tr>\n",
    "      <td style=\"text-align:left;\">16</td>\n",
    "      <td style=\"text-align:left;\">Del 6 al 10 de mayo</td>\n",
    "      <td style=\"text-align:left;\">3ra Reunión Proyectos Finales<br>(Presentación de proyectos)</td>\n",
    "    </tr>\n",
    "  </tbody>\n",
    "</table>\n"
   ]
  },
  {
   "cell_type": "markdown",
   "id": "5497c4e4",
   "metadata": {
    "slideshow": {
     "slide_type": "slide"
    }
   },
   "source": [
    "## Fechas importantes\n",
    "\n",
    "| Evento                           | Fecha                 |\n",
    "|----------------------------------|----------------------|\n",
    "| INICIO DE SEMESTRE               | Martes 16 de Enero   |\n",
    "| Primer examen parcial             | Jueves 15 de Febrero |\n",
    "| Segundo examen parcial            | Jueves 21 de Marzo   |\n",
    "| Tercer examen parcial             | Jueves 2 de Mayo     |\n",
    "| Presentación de proyectos         | Lunes 6 de Mayo      |\n",
    "| Entrega de calificaciones finales | Jueves 9 de Mayo     |\n",
    "| FIN DE SEMESTRE                   | Viernes 10 de Mayo   |\n"
   ]
  },
  {
   "cell_type": "markdown",
   "id": "09622ac6",
   "metadata": {
    "slideshow": {
     "slide_type": "slide"
    }
   },
   "source": [
    "## Material de estudio\n",
    "\n",
    "| <img src=\"https://media.springernature.com/full/springer-static/cover-hires/book/978-0-387-40065-5\" alt=\"Numerical optimization\" width=\"100\"/> | **Numerical optimization (2nd edition)** <br> Watt, Borhani and Katsaggelos.<br> - **Link:** [Numerical optimization](https://www.math.uci.edu/~qnie/Publications/NumericalOptimization.pdf) |\n",
    "| --- | --- |\n",
    "| <img src=\"https://hastie.su.domains/ElemStatLearn/CoverII_small.jpg\" alt=\"The Elements of Statistical Learning\" width=\"100\"/> | The Elements of Statistical Learning (2nd edition) <br> Hastie, Tibshirani and Friedman.<br> - **Link:** [The Elements of Statistical Learning](https://hastie.su.domains/ElemStatLearn/) |\n",
    "| --- | --- |\n",
    "| <img src=\"https://aima.cs.berkeley.edu/cover.jpg\" alt=\"Artificial Intelligence, A Modern Approach (3rd edition)\" width=\"100\"/> | Artificial Intelligence, A Modern Approach (3rd edition) <br> - **Link:** [Artificial Intelligence, A Modern Approach](https://people.engr.tamu.edu/guni/csce421/files/AI_Russell_Norvig.pdf) |\n",
    "| --- | --- |\n",
    "| <img src=\"https://assets.cambridge.org/97811071/23526/cover/9781107123526.jpg\" alt=\"Machine Learning Refined\" width=\"100\"/> | **Machine Learning Refined (2nd edition)** <br> Watt, Borhani and Katsaggelos.<br> - **Link:** [Machine Learning Refined](https://people.engr.tamu.edu/guni/csce421/files/Machine_Learning_Refined.pdf) |\n",
    "| --- | --- |\n"
   ]
  },
  {
   "cell_type": "code",
   "execution_count": 1,
   "id": "1457074f",
   "metadata": {
    "hideCode": true,
    "hideOutput": true,
    "hidePrompt": true,
    "slideshow": {
     "slide_type": "skip"
    }
   },
   "outputs": [
    {
     "name": "stdout",
     "output_type": "stream",
     "text": [
      "C:\\Users\\alvaradocde\\Documents\\2024\\ibero\\inteligencia-artificial\\clases\\clase01_logistica-curso.html\n"
     ]
    }
   ],
   "source": [
    "import os\n",
    "from pyhtml2pdf import converter\n",
    "\n",
    "path = os.path.abspath('clase01_logistica-curso.html')\n",
    "print(path)\n",
    "converter.convert(f'file:///{path}', 'clase01_logistica-curso.pdf')"
   ]
  }
 ],
 "metadata": {
  "celltoolbar": "Hide code",
  "kernelspec": {
   "display_name": "Python 3 (ipykernel)",
   "language": "python",
   "name": "python3"
  },
  "language_info": {
   "codemirror_mode": {
    "name": "ipython",
    "version": 3
   },
   "file_extension": ".py",
   "mimetype": "text/x-python",
   "name": "python",
   "nbconvert_exporter": "python",
   "pygments_lexer": "ipython3",
   "version": "3.11.5"
  },
  "livereveal": {
   "autolaunch": true,
   "enable_chalkboard": true,
   "scroll": true
  }
 },
 "nbformat": 4,
 "nbformat_minor": 5
}

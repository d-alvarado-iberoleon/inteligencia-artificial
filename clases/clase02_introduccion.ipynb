{
 "cells": [
  {
   "cell_type": "markdown",
   "id": "1525ff23",
   "metadata": {
    "slideshow": {
     "slide_type": "slide"
    }
   },
   "source": [
    "# Inteligencia Artificial\n",
    "\n",
    "## Clase 02: Introducción a la Inteligencia Artificial\n",
    "\n",
    "### Primavera 2024\n",
    "\n",
    "#### Dra. Dora Alvarado\n",
    "* 27382@iberoleon.edu.mx \n",
    "* doraelisa.alvaradocarrillo@iberoleon.edu.mx\n",
    "\n"
   ]
  },
  {
   "cell_type": "markdown",
   "id": "825148aa",
   "metadata": {
    "slideshow": {
     "slide_type": "slide"
    }
   },
   "source": [
    "## Temario (sujeto a cambios según sea necesario):\n",
    "\n",
    "<img src=\"./imgs/temario_s1.png\" alt=\"Temario del curso\" style=\"width:85%; margin-left:auto; margin-right:auto;\">"
   ]
  },
  {
   "cell_type": "markdown",
   "id": "5accb470",
   "metadata": {
    "slideshow": {
     "slide_type": "slide"
    }
   },
   "source": [
    "## Contenido\n",
    "\n",
    "- ¿Qué es la inteligencia artificial (IA)?\n",
    "    - Algunas definiciones de IA\n",
    "    - Enfoques para abordar IA\n",
    "    - El test de Turing\n",
    "    - Breve historia de la IA\n",
    "- Algunas aplicaciones de la inteligencia artificial\n",
    "- Ramas de la inteligencia artificial\n"
   ]
  },
  {
   "cell_type": "markdown",
   "id": "3828b336",
   "metadata": {
    "slideshow": {
     "slide_type": "slide"
    }
   },
   "source": [
    "## ¿Qué es la inteligencia artificial?\n",
    "\n"
   ]
  },
  {
   "cell_type": "markdown",
   "id": "b22c1532",
   "metadata": {
    "slideshow": {
     "slide_type": "subslide"
    }
   },
   "source": [
    "<h1 style=\"background-color:#DFFF00; margin-left:auto; margin-right:auto; width: 100%;\">Algunas definiciones de IA</h1>\n",
    "<div style=\"display: flex; justify-content: space-between; align-items: flex-start;\">\n",
    "\n",
    "  <div style=\"width: 48%;\">\n",
    "\n",
    "### **Definición de John McCarthy**\n",
    "   - *Fuente:* [¿Qué es la inteligencia artificial?](https://www.ibm.com/topics/artificial-intelligence)\n",
    "   - Ciencia e ingeniería de crear **máquinas inteligentes**. Está relacionada con la tarea similar de utilizar computadoras para entender la inteligencia humana, pero no tiene que limitarse a métodos que sean biológicamente observables.\n",
    "      \n",
    "### **Definición de Cambridge**\n",
    "   - *Fuente:* [Cambridge Dictionary](https://dictionary.cambridge.org/dictionary/english/artificial-intelligence)\n",
    "   - El uso o estudio de sistemas de **computadoras o máquinas que tienen algunas de las cualidades del cerebro humano**, como la habilidad de interpretar y producir un lenguaje que parezca humano, reconocer o crear imágenes, resolver problemas y aprender de datos.\n",
    "\n",
    "### **Definición de Google Cloud**\n",
    "   - *Fuente:* [Google Cloud Learn](https://cloud.google.com/learn/what-is-artificial-intelligence?hl=es)\n",
    "   - Campo de la ciencia relacionado con la creación de computadoras y **máquinas que pueden razonar, aprender y actuar de una forma que normalmente necesitaría inteligencia humana**. A nivel operativo para el uso empresarial, es un conjunto de tecnologías basadas principalmente en **aprendizaje automático** y **aprendizaje profundo**.\n",
    "      \n",
    "### **Definición de IBM**\n",
    "   - *Fuente:* [IBM Topics](https://ibm.com/topics/artificial-intelligence)\n",
    "   - Campo que **combina la computación y conjuntos de datos robustos para permitir la resolución de problemas**. También abarca subcampos del **aprendizaje automático** y del **aprendizaje profundo**, disciplinas compuestas por algoritmos que buscan crear sistemas expertos que realicen predicciones o clasificaciones basadas en datos de entrada. \n",
    "\n",
    "  \n",
    "  </div>\n",
    "\n",
    "  <div style=\"width: 48%;\">\n",
    "  \n",
    "  <img src=\"https://img.freepik.com/vector-premium/icono-doodle-moda-robot-ai_67813-5838.jpg\" alt=\"Doodle IA\" style=\"width:85%; margin-left:auto; margin-right:auto;\">\n",
    "      Imagen de img.freepik.com\n",
    "      \n",
    "  </div>\n",
    "\n",
    "</div>\n",
    "\n",
    "\n",
    "\n",
    "\n"
   ]
  },
  {
   "cell_type": "markdown",
   "id": "d7fc8c0d",
   "metadata": {
    "slideshow": {
     "slide_type": "subslide"
    }
   },
   "source": [
    "<h1 style=\"background-color:#DFFF00; margin-left:auto; margin-right:auto; width: 100%;\">Enfoques para abordar IA</h1>\n",
    "\n",
    "\n",
    "1. **Actuar como humano**\n",
    "2. **Pensar como humano**\n",
    "3. **Actuar racionalmente**\n",
    "4. **Pensar racionalmente**"
   ]
  },
  {
   "cell_type": "markdown",
   "id": "86b0dc1f",
   "metadata": {
    "slideshow": {
     "slide_type": "subslide"
    }
   },
   "source": [
    "<h2 style=\"background-color:#8DE8F2; margin-left:auto; margin-right:auto; width: 100%;\">1. Actuar como humano</h2>\n",
    "\n",
    "- Este enfoque, propuesto por Alan Turing en 1950 mediante el **Test de Turing**, define la inteligencia artificial según la capacidad de los sistemas para superar un cuestionario escrito. Para ser considerados \"inteligentes\", los sistemas deben demostrar habilidades que incluyen:\n",
    "\n",
    "    - **Comunicación en Lenguaje Humano (Procesamiento de Lenguaje Natural):** La capacidad de comprender y generar lenguaje humano.\n",
    "    - **Almacenamiento y Representación del Conocimiento:** La capacidad de recordar y representar información de manera similar a como lo hace un humano.\n",
    "    - **Razonamiento Automático:** La habilidad para utilizar la información almacenada y sacar conclusiones lógicas.\n",
    "    - **Aprendizaje Máquina:** La capacidad de reconocer patrones y aprender de la experiencia.\n",
    "    - **Visión Computacional:** La habilidad para percibir y entender objetos visuales.\n",
    "    - **Robótica:** La capacidad de manipular objetos y realizar movimientos físicos."
   ]
  },
  {
   "cell_type": "markdown",
   "id": "e46a3600",
   "metadata": {
    "slideshow": {
     "slide_type": "subslide"
    }
   },
   "source": [
    "<h2 style=\"background-color:#8DE8F2; margin-left:auto; margin-right:auto; width: 100%;\">2. Pensar como humano</h2>\n",
    "\n",
    "- Este enfoque se basa en la **Ciencia Cognitiva**, que investiga el funcionamiento de la mente humana mediante técnicas como introspección, experimentación psicológica y neuroimagen. Ejemplos de IA inspirada en o que utiliza procesos cognitivos incluyen:\n",
    "\n",
    "    - **Algoritmos de Aprendizaje por Reforzamiento:** Donde los agentes aprenden mediante ensayo y error, inspirado en mecanismos de aprendizaje basados en recompensas en el cerebro. Esto ha llevado a avances en la IA de juego y el control de robots.\n",
    "    - **Interfaces Cerebro-Computadora (BCIs):** Investigadores desarrollan BCIs que traducen las señales cerebrales en comandos de computadora, abriendo posibilidades para la comunicación y el control en personas con discapacidades.\n"
   ]
  },
  {
   "cell_type": "markdown",
   "id": "0901964d",
   "metadata": {
    "slideshow": {
     "slide_type": "subslide"
    }
   },
   "source": [
    "<h2 style=\"background-color:#8DE8F2; margin-left:auto; margin-right:auto; width: 100%;\">3. Pensar racionalmente</h2>\n",
    "\n",
    "- Este enfoque se basa en la aplicación de la **lógica** para realizar inferencias y razonamientos. Se inspira en la tradición filosófica de la lógica aristotélica, donde se busca alcanzar conclusiones irrefutables a partir de premisas correctas. Ejemplos de implementaciones en este enfoque incluyen:\n",
    "\n",
    "    - **Sistemas Expertos:** Programas informáticos diseñados para resolver problemas específicos utilizando reglas lógicas y conocimiento experto en un dominio particular.\n",
    " "
   ]
  },
  {
   "cell_type": "markdown",
   "id": "dbf2cf81",
   "metadata": {
    "slideshow": {
     "slide_type": "subslide"
    }
   },
   "source": [
    "<h2 style=\"background-color:#8DE8F2; margin-left:auto; margin-right:auto; width: 100%;\">4. Actuar Racionalmente</h2>\n",
    "\n",
    "- Este enfoque considera a la IA como agentes racionales que toman decisiones para lograr los mejores resultados posibles en función de sus objetivos. \n",
    "- La racionalidad se define en términos de la elección de acciones que maximizan el resultado esperado, considerando la información disponible y la incertidumbre del entorno.\n",
    "- Ejemplos de implementaciones en este enfoque incluyen:\n",
    "\n",
    "    - **Sistemas de Recomendación Personalizada:** Utilizan algoritmos que analizan el comportamiento del usuario y la retroalimentación para recomendar productos o contenido de manera óptima.\n",
    "    - **Agentes de Juegos Inteligentes:** Emplean estrategias racionales para tomar decisiones en entornos competitivos, como agentes en juegos de mesa o videojuegos.\n"
   ]
  },
  {
   "cell_type": "markdown",
   "id": "1689a853",
   "metadata": {
    "slideshow": {
     "slide_type": "subslide"
    }
   },
   "source": [
    "## ¿Qué es pensar/actuar racionalmente?"
   ]
  },
  {
   "cell_type": "markdown",
   "id": "3d006456",
   "metadata": {
    "slideshow": {
     "slide_type": "fragment"
    }
   },
   "source": [
    "Usaremos el término racional de una manera técnica muy específica:\n",
    "- **Racional:** lograr al máximo objetivos predefinidos.\n",
    "- Los **objetivos** se expresan en términos de la utilidad de los resultados.\n"
   ]
  },
  {
   "cell_type": "markdown",
   "id": "c6078405",
   "metadata": {
    "slideshow": {
     "slide_type": "subslide"
    }
   },
   "source": [
    "## Test de Turing"
   ]
  },
  {
   "cell_type": "code",
   "execution_count": 4,
   "id": "36bc60aa",
   "metadata": {
    "hideCode": true,
    "hidePrompt": true,
    "slideshow": {
     "slide_type": "fragment"
    }
   },
   "outputs": [
    {
     "data": {
      "text/html": [
       "<iframe width=\"800\" height=\"600\" src=\"https://www.youtube.com/embed/0w0qOxgp6xM?si=oKh6we5_YQz-V7iN\" title=\"YouTube video player\" frameborder=\"0\" allow=\"accelerometer; autoplay; clipboard-write; encrypted-media; gyroscope; picture-in-picture; web-share\" allowfullscreen></iframe>\n"
      ],
      "text/plain": [
       "<IPython.core.display.HTML object>"
      ]
     },
     "metadata": {},
     "output_type": "display_data"
    }
   ],
   "source": [
    "%%html\n",
    "<iframe width=\"800\" height=\"600\" src=\"https://www.youtube.com/embed/0w0qOxgp6xM?si=oKh6we5_YQz-V7iN\" title=\"YouTube video player\" frameborder=\"0\" allow=\"accelerometer; autoplay; clipboard-write; encrypted-media; gyroscope; picture-in-picture; web-share\" allowfullscreen></iframe>"
   ]
  },
  {
   "cell_type": "markdown",
   "id": "2dc42a3e",
   "metadata": {
    "slideshow": {
     "slide_type": "subslide"
    }
   },
   "source": [
    "## Breve historia de la IA"
   ]
  },
  {
   "cell_type": "markdown",
   "id": "4073e7d7",
   "metadata": {},
   "source": [
    "<img src=\"https://user.oc-static.com/upload/2023/09/19/1695118790876_P1C1%20%282%29.png\" alt=\"History AI\" style=\"width:85%; margin-left:auto; margin-right:auto;\">\n"
   ]
  },
  {
   "cell_type": "code",
   "execution_count": 5,
   "id": "e5160d4a",
   "metadata": {
    "hideCode": true,
    "hidePrompt": true
   },
   "outputs": [
    {
     "data": {
      "text/html": [
       "<blockquote class=\"twitter-tweet\" data-media-max-width=\"560\"><p lang=\"en\" dir=\"ltr\">👉 A Visual History of Artificial Intelligence - What are the Big Milestones of AI history, missing in this infographic?<a href=\"https://twitter.com/hashtag/ArtificialIntelligence?src=hash&amp;ref_src=twsrc%5Etfw\">#ArtificialIntelligence</a> <a href=\"https://twitter.com/hashtag/ML?src=hash&amp;ref_src=twsrc%5Etfw\">#ML</a> <a href=\"https://twitter.com/hashtag/AI?src=hash&amp;ref_src=twsrc%5Etfw\">#AI</a> <a href=\"https://twitter.com/hashtag/DeepLearning?src=hash&amp;ref_src=twsrc%5Etfw\">#DeepLearning</a> <a href=\"https://twitter.com/hashtag/MachineLearning?src=hash&amp;ref_src=twsrc%5Etfw\">#MachineLearning</a> <a href=\"https://twitter.com/hashtag/DataScience?src=hash&amp;ref_src=twsrc%5Etfw\">#DataScience</a> <a href=\"https://t.co/KJmQ4owvRV\">pic.twitter.com/KJmQ4owvRV</a></p>&mdash; Insane (@TheInsaneApp) <a href=\"https://twitter.com/TheInsaneApp/status/1342074581931053060?ref_src=twsrc%5Etfw\">December 24, 2020</a></blockquote> <script async src=\"https://platform.twitter.com/widgets.js\" charset=\"utf-8\"></script>\n"
      ],
      "text/plain": [
       "<IPython.core.display.HTML object>"
      ]
     },
     "metadata": {},
     "output_type": "display_data"
    }
   ],
   "source": [
    "%%html\n",
    "<blockquote class=\"twitter-tweet\" data-media-max-width=\"560\"><p lang=\"en\" dir=\"ltr\">👉 A Visual History of Artificial Intelligence - What are the Big Milestones of AI history, missing in this infographic?<a href=\"https://twitter.com/hashtag/ArtificialIntelligence?src=hash&amp;ref_src=twsrc%5Etfw\">#ArtificialIntelligence</a> <a href=\"https://twitter.com/hashtag/ML?src=hash&amp;ref_src=twsrc%5Etfw\">#ML</a> <a href=\"https://twitter.com/hashtag/AI?src=hash&amp;ref_src=twsrc%5Etfw\">#AI</a> <a href=\"https://twitter.com/hashtag/DeepLearning?src=hash&amp;ref_src=twsrc%5Etfw\">#DeepLearning</a> <a href=\"https://twitter.com/hashtag/MachineLearning?src=hash&amp;ref_src=twsrc%5Etfw\">#MachineLearning</a> <a href=\"https://twitter.com/hashtag/DataScience?src=hash&amp;ref_src=twsrc%5Etfw\">#DataScience</a> <a href=\"https://t.co/KJmQ4owvRV\">pic.twitter.com/KJmQ4owvRV</a></p>&mdash; Insane (@TheInsaneApp) <a href=\"https://twitter.com/TheInsaneApp/status/1342074581931053060?ref_src=twsrc%5Etfw\">December 24, 2020</a></blockquote> <script async src=\"https://platform.twitter.com/widgets.js\" charset=\"utf-8\"></script>"
   ]
  },
  {
   "cell_type": "markdown",
   "id": "23ef2fdb",
   "metadata": {
    "slideshow": {
     "slide_type": "slide"
    }
   },
   "source": [
    "## Aplicaciones de la IA\n",
    "\n"
   ]
  },
  {
   "cell_type": "markdown",
   "id": "9e9065aa",
   "metadata": {
    "slideshow": {
     "slide_type": "subslide"
    }
   },
   "source": [
    "### Aplicaciones de la Inteligencia Artificial\n",
    "\n",
    "\n",
    "| Aplicación | Descripción | Ejemplo | Imagen |\n",
    "|------------|-------------|---------|--------|\n",
    "| **En el Espacio Exterior** | La necesidad de control autónomo es crucial en el espacio exterior debido a la imposibilidad de control remoto causada por el retardo en el tiempo de transmisión. | **Rover Curiosity de la NASA:** Usa IA para realizar la exploración de Marte. | ![Imagen de Curiosity](https://mars.nasa.gov/system/feature_items/images/6037_msl_banner.jpg) <br> [Más Información](https://mars.nasa.gov/msl/home/) |\n",
    "| **En Prótesis Artificiales** | La IA permite a usuarios controlar prótesis a través de nervios existentes. | **Utah Bionic Leg:** Una prótesis motorizada para amputados de miembros inferiores.  | ![Imagen de Bionic Leg](https://www.mech.utah.edu/wp-content/uploads/2022/11/Bionic-Leg-Graphic-768x576-1.jpg) <br> [Más Información](https://www.mech.utah.edu/utah-bionic-leg-in-science-robotics/) |\n",
    "| **En Electrodomésticos** | Utilización de IA para proporcionar asistencia en el hogar o realizar tareas como limpiar |  **Roomba:** Una aspiradora robótica inteligente  | ![Imagen de Roomba](https://cdn.thewirecutter.com/wp-content/media/2022/11/roombai3cyberweek-2048px-LTTroombai3-2x1-1.jpg?auto=webp&quality=75&crop=2:1&width=980&dpr=2) <br> [Más Información](https://www.theverge.com/2020/8/25/21377585/irobot-ai-software-update-home-intelligence-genius-app) |\n",
    "| **En el Ámbito Hospitalario** | La alta precisión requerida en algunos procedimientos quirúrgicos se ha alcanzado a través de la IA. | **RoboDoc:** Es un robot quirúrgico que realiza cirugías de reemplazo total de cadera y rodilla. | ![Imagen de RoboDoc](https://vitals.sutterhealth.org/files/2022/08/robodoc-1-scaled.jpg) <br> [Más Información](https://vitals.sutterhealth.org/how-a-robot-made-medical-history-in-sacramento-30-years-ago/) |\n",
    "| **En Asistentes Personales** | Asistentes de Voz Inteligentes utilizan IA para entender y responder a comandos de voz. | **Siri de Apple**,  **Google Assistant**, **Alexa de Amazon**  | ![Imagen de Siri](https://www.elimparcial.com/__export/1682617529056/sites/elimparcial/img/2023/04/27/alexa_siri_google_assistant.jpg_851672003.jpg) <br> [Más Información](https://www.elimparcial.com/tecnologia/Alexa-Siri-y-Google-Assistant-Ventajas-de-cada-asistente-y-cual-es-el-mejor-20230427-0039.html) |\n",
    "\n"
   ]
  },
  {
   "cell_type": "markdown",
   "id": "e5a20cd3",
   "metadata": {
    "slideshow": {
     "slide_type": "subslide"
    }
   },
   "source": [
    "### Investiga: ¿Cuál de las siguientes actividades se puede realizar con IA en la actualidad?\n",
    "**Incluir fuentes bibliográficas**\n",
    "\n",
    "1. ¿Ganarle a los mejores humanos en ajedrez?\n",
    "2. ¿Ganarle a los mejores humanos en Go?\n",
    "3. ¿Jugar un juego *decente* de tenis?\n",
    "4. ¿Cargar/descargar un lavavajillas en cualquier hogar?\n",
    "5. ¿Conducir de manera segura por una autopista?\n",
    "6. ¿Conducir de manera segura por alguna ciudad de México?\n",
    "7. ¿Descubrir y demostrar un nuevo teorema matemático?\n",
    "8. ¿Ganar una competencia de arte?\n",
    "9. ¿Escribir una historia divertida?\n",
    "10. ¿Construir un edificio?"
   ]
  },
  {
   "cell_type": "markdown",
   "id": "1fb755b7",
   "metadata": {
    "slideshow": {
     "slide_type": "fragment"
    }
   },
   "source": [
    "**Respuestas**\n",
    "\n",
    "1. Sí. En 1997 la supercomputadora DeepBlue de IBM ganó al campeón de ajedrez Garry Kasparov. [Más información](https://codigoespagueti.com/noticias/tecnologia/ibm-vs-kasparov-el-dia-que-una-maquina-vencio-al-hombre/)\n",
    "2. Sí. AlphaGo, del equipo de DeepMind de Google ha ganada los mejores jugadores de Go en 2016 y 2017, aunque también se han encontrado fallas al sistema. [Más información](https://www.xataka.com/robotica-e-ia/creiamos-que-ia-era-invencible-jugando-al-go-este-jugador-ha-conseguido-derrotarla-curioso-metodo)\n",
    "3. Parcialmente sí. Algunas universidades trabajan en este problema, como el Georgia Tech College of Computing. [Más información](https://www.youtube.com/watch?v=plUktbRLfQw).\n",
    "4. Aún no (?). Aunque el sistema \"ThinQ\" de la empresa LG  puede controlar un lavavajillas mediante órdenes de voz o indicaciones en la pantalla del teléfono inteligente. [Más información](https://www.forbes.com.mx/ad-lg-thinq-ia-tecnologia-simplifica-tareas-hogar/)\n",
    "5. Parcialmente sí, en algunos países, aún no en México. No sin enfrentar muchos problemas y demandas. [Más información](https://youtu.be/4sCK-a33Nkk)\n",
    "6. Aún no (?). \n",
    "7. Aún no (?) pero muchas universidades trabajan en este problema, como la Universidad de Cambridge. [Más información](https://www.geeksforgeeks.org/different-theorem-proving-system-tps/)\n",
    "8. Parcialmente sí, en 2022 Jason M. Allen ganó un concurso de arte en la feria estatal de Colorado con la obra \"Théâtre D’opéra Spatial\", que creó con la ayuda de la IA Midjourney. [Más información](https://www.nytimes.com/2022/09/02/technology/ai-artificial-intelligence-artists.html)\n",
    "9. Parcialmente sí, se puede usar un generador de lenguaje como ChatGPT para generar una historia *divertida*.\n",
    "10. Aún no (?). ![](./imgs/ai-construct-building.png)\n"
   ]
  },
  {
   "cell_type": "markdown",
   "id": "2e7296a6",
   "metadata": {
    "slideshow": {
     "slide_type": "slide"
    }
   },
   "source": [
    "## Ramas de la inteligencia artificial"
   ]
  },
  {
   "cell_type": "markdown",
   "id": "8896d82e",
   "metadata": {
    "slideshow": {
     "slide_type": "subslide"
    }
   },
   "source": [
    "<h1 style=\"background-color:#DFFF00; margin-left:auto; margin-right:auto; width: 100%;\">Ramas de la Inteligencia Artificial</h1>\n",
    "\n",
    "### Algunas Clasificaciones Comunes\n",
    "1. Aprendizaje Supervisado vs. No Supervisado vs. Reforzado\n",
    "2. Inteligencia General vs. Inteligencia Estrecha\n",
    "3. Por Función Humana\n"
   ]
  },
  {
   "cell_type": "markdown",
   "id": "c2cec6a9",
   "metadata": {
    "slideshow": {
     "slide_type": "subslide"
    }
   },
   "source": [
    "<h2 style=\"background-color:#8DE8F2; margin-left:auto; margin-right:auto; width: 100%;\">1. Aprendizaje Supervisado vs. No Supervisado vs. Reforzado</h2>\n",
    "\n",
    "- **Aprendizaje Supervisado:** Se entrena con datos etiquetados.\n",
    "- **Aprendizaje No Supervisado:** Se enfrenta a datos no etiquetados, busca patrones.\n",
    "- **Aprendizaje Reforzado:** El agente toma decisiones en un entorno para maximizar recompensas.\n",
    "\n",
    "<img src=\"https://www.shutterstock.com/image-vector/types-machine-learning-algorithms-classification-600nw-2220216845.jpg\" alt=\"Aprendizaje IA\" style=\"width:65%; margin-left:auto; margin-right:auto;\">\n",
    "\n",
    "*Imagen de shutterstock.com*"
   ]
  },
  {
   "cell_type": "markdown",
   "id": "ff76f23e",
   "metadata": {
    "slideshow": {
     "slide_type": "subslide"
    }
   },
   "source": [
    "<h2 style=\"background-color:#8DE8F2; margin-left:auto; margin-right:auto; width: 100%;\">2. Inteligencia General vs. Inteligencia Estrecha</h2>\n",
    "\n",
    "- **Inteligencia General:** Capacidad de comprender, aprender y aplicar conocimientos en diversas áreas (Existe actualmente).\n",
    "- **Inteligencia Estrecha:** Especialización en una tarea específica (En progreso).\n",
    "- **Superinteligencia:** Representaría un nivel de inteligencia que supera significativamente las habilidades cognitivas humanas en todas las áreas (Sólo en Sci-Fi).\n",
    "\n",
    "<img src=\"https://media.datakeen.co/wp-content/uploads/2020/01/28141517/3_stages_of_ai.png\" alt=\"Tipos IA\" style=\"width:65%; margin-left:auto; margin-right:auto;\">\n"
   ]
  },
  {
   "cell_type": "markdown",
   "id": "c9ff4400",
   "metadata": {
    "slideshow": {
     "slide_type": "subslide"
    }
   },
   "source": [
    "<h2 style=\"background-color:#8DE8F2; margin-left:auto; margin-right:auto; width: 100%;\">3. Por Función Humana</h2>\n",
    "\n",
    "- **Visión por Computadora:** Capacidad de las máquinas para interpretar y comprender el mundo visual.\n",
    "- **Aprendizaje de Máquina:** Desarrollo de algoritmos que permiten a las máquinas aprender patrones a partir de datos.\n",
    "- **Procesamiento de Lenguaje Natural:** Habilidad de las máquinas para comprender, interpretar y generar lenguaje humano.\n",
    "\n",
    "<img src=\"https://i0.wp.com/swisscognitive.ch/wp-content/uploads/2020/11/what-is-artificial-intelligence.png?w=730&ssl=1\" alt=\"Tipos IA\" style=\"width:65%; margin-left:auto; margin-right:auto;\">\n",
    "\n",
    "*Imagen de swisscognitive.ch*"
   ]
  },
  {
   "cell_type": "markdown",
   "id": "19ca3797",
   "metadata": {
    "slideshow": {
     "slide_type": "subslide"
    }
   },
   "source": [
    "### Aprendizaje Máquina \n",
    "\n",
    "- En este curso estaremos trabajando principalmente con algoritmos de Aprendizaje Máquina, quizás la forma más popular de IA. \n",
    "- En esta rama, la idea es aprender a partir de datos y realiza predicciones sobre datos desconocidos. \n",
    "- Este tipo de algoritmos son muy populares, y tan eficientes como la calidad y cantidad de los datos proporcionados.\n"
   ]
  },
  {
   "cell_type": "markdown",
   "id": "e4ccc9ce",
   "metadata": {},
   "source": [
    "## Componentes Principales de un Sistema de Aprendizaje Máquina\n",
    "\n",
    "1. **Entrada de Datos:** Conjunto de datos utilizado para entrenar el modelo.\n",
    "2. **Modelo de Aprendizaje:** Algoritmo que aprende patrones a partir de los datos de entrada.\n",
    "3. **Predicciones:** Realización de predicciones sobre datos desconocidos.\n",
    "4. **Limitaciones:** Dependencia de la calidad y cantidad de datos.\n",
    "<img src=\"https://d2e931syjhr5o9.cloudfront.net/supervised_machine_learning_diagram_fa082074b6.jpg\" alt=\"Tipos IA\" style=\"width:65%; margin-left:auto; margin-right:auto;\">\n"
   ]
  },
  {
   "cell_type": "markdown",
   "id": "b4a19aea",
   "metadata": {
    "slideshow": {
     "slide_type": "slide"
    }
   },
   "source": [
    "## Fuentes bibliográficas\n",
    "\n",
    "| <img src=\"https://aima.cs.berkeley.edu/cover.jpg\" alt=\"Artificial Intelligence, A Modern Approach (3rd edition)\" width=\"100\"/> | Artificial Intelligence, A Modern Approach (3rd edition) <br> - **Link:** [Artificial Intelligence, A Modern Approach](https://people.engr.tamu.edu/guni/csce421/files/AI_Russell_Norvig.pdf) |\n",
    "| --- | --- |\n",
    "\n",
    "| <img src=\"https://content.packt.com/B15441/cover_image_small.jpg\" alt=\"Artificial Intelligence with Python\" width=\"100\"/> | Artificial Intelligence with Python (2nd edition) <br> - **Link:** [Artificial Intelligence with Python](https://bacon.umcs.lublin.pl/~pgiza/dyd/AI-with-Python.pdf) |\n",
    "| --- | --- |"
   ]
  },
  {
   "cell_type": "code",
   "execution_count": 6,
   "id": "1457074f",
   "metadata": {
    "hideCode": true,
    "hideOutput": true,
    "hidePrompt": true,
    "slideshow": {
     "slide_type": "skip"
    }
   },
   "outputs": [
    {
     "name": "stdout",
     "output_type": "stream",
     "text": [
      "C:\\Users\\alvaradocde\\Documents\\2024\\ibero\\inteligencia-artificial\\clases\\clase02_introduccion.html\n"
     ]
    }
   ],
   "source": [
    "import os\n",
    "from pyhtml2pdf import converter\n",
    "\n",
    "path = os.path.abspath('clase02_introduccion.html')\n",
    "print(path)\n",
    "converter.convert(f'file:///{path}', 'clase02_introduccion.pdf')"
   ]
  }
 ],
 "metadata": {
  "celltoolbar": "Slideshow",
  "kernelspec": {
   "display_name": "Python 3 (ipykernel)",
   "language": "python",
   "name": "python3"
  },
  "language_info": {
   "codemirror_mode": {
    "name": "ipython",
    "version": 3
   },
   "file_extension": ".py",
   "mimetype": "text/x-python",
   "name": "python",
   "nbconvert_exporter": "python",
   "pygments_lexer": "ipython3",
   "version": "3.11.5"
  },
  "livereveal": {
   "autolaunch": true,
   "enable_chalkboard": true,
   "scroll": true
  }
 },
 "nbformat": 4,
 "nbformat_minor": 5
}
